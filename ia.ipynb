{
 "cells": [
  {
   "cell_type": "markdown",
   "metadata": {},
   "source": [
    "# Xilium IA\n",
    "\n",
    "> FA2 | BARKER, OUALI, GUILLERAY, GRAVIER, LEMOUTON  "
   ]
  },
  {
   "cell_type": "markdown",
   "metadata": {},
   "source": [
    "## Introduction\n",
    "\n",
    "Xilium est une application de ticketing qui permet au personnel de créer des tickets si ils ont des problèmes informatiques que des techniciens pourront résoudre si besoin. Le membre du personnel va donc attribuer une catégorie à son ticket pour qu'il soit plus facilement triable et traitable. Cependant les techniciens et les administrateurs peuvent adapter le champ de catégorie en fonction de leur préférence pour qu'il corresponde reelement au problème posé. Pour cela, nous avons créé une IA qui va determiner a partir de la description du ticket sa catégorie et en avoir une potentiellement plus pertinente. Si la categorie determiné par l'IA est la meme que celle mis par le membre du personnel alors rien ne change. Si la categorie proposé est différente, le technicien ou l'administrateur peuvent valider la suggestion de l'IA et avoir une categorie pertinente pour le ticket.\n",
    " "
   ]
  },
  {
   "cell_type": "markdown",
   "metadata": {},
   "source": [
    "## Le programme\n",
    "### Importation des librairies\n"
   ]
  },
  {
   "cell_type": "code",
   "execution_count": 1,
   "metadata": {},
   "outputs": [],
   "source": [
    "import pandas as pd\n",
    "import numpy as np\n",
    "from sklearn.pipeline import Pipeline\n",
    "from sklearn.model_selection import train_test_split\n",
    "from sklearn.model_selection import GridSearchCV\n",
    "from sklearn.feature_extraction.text import TfidfVectorizer\n",
    "from sklearn.linear_model import LogisticRegression\n",
    "from sklearn.metrics import classification_report"
   ]
  },
  {
   "cell_type": "markdown",
   "metadata": {},
   "source": [
    "### Lecture du csv et creation des sets"
   ]
  },
  {
   "cell_type": "code",
   "execution_count": 2,
   "metadata": {},
   "outputs": [],
   "source": [
    "df = pd.read_csv(\"./src/app/ai/data/tickets.csv\")\n",
    "X = df.description\n",
    "y = df.categorie\n",
    "X_train, X_test, y_train, y_test = train_test_split(X, y, random_state=42)"
   ]
  },
  {
   "cell_type": "code",
   "execution_count": 3,
   "metadata": {},
   "outputs": [
    {
     "data": {
      "text/html": [
       "<div>\n",
       "<style scoped>\n",
       "    .dataframe tbody tr th:only-of-type {\n",
       "        vertical-align: middle;\n",
       "    }\n",
       "\n",
       "    .dataframe tbody tr th {\n",
       "        vertical-align: top;\n",
       "    }\n",
       "\n",
       "    .dataframe thead th {\n",
       "        text-align: right;\n",
       "    }\n",
       "</style>\n",
       "<table border=\"1\" class=\"dataframe\">\n",
       "  <thead>\n",
       "    <tr style=\"text-align: right;\">\n",
       "      <th></th>\n",
       "      <th>type</th>\n",
       "      <th>description</th>\n",
       "      <th>priorite</th>\n",
       "      <th>categorie</th>\n",
       "    </tr>\n",
       "  </thead>\n",
       "  <tbody>\n",
       "    <tr>\n",
       "      <th>0</th>\n",
       "      <td>Demande</td>\n",
       "      <td>Impossible d'ouvrir le projet dans l'IDE</td>\n",
       "      <td>Elevé</td>\n",
       "      <td>Logiciel</td>\n",
       "    </tr>\n",
       "    <tr>\n",
       "      <th>1</th>\n",
       "      <td>Incident</td>\n",
       "      <td>Le serveur de développement est inaccessible</td>\n",
       "      <td>Moyenne</td>\n",
       "      <td>Réseau</td>\n",
       "    </tr>\n",
       "    <tr>\n",
       "      <th>2</th>\n",
       "      <td>Demande</td>\n",
       "      <td>Nouvelle fonctionnalité pour le système de ges...</td>\n",
       "      <td>Faible</td>\n",
       "      <td>Logiciel</td>\n",
       "    </tr>\n",
       "    <tr>\n",
       "      <th>3</th>\n",
       "      <td>Incident</td>\n",
       "      <td>Le matériel de développement est défectueux</td>\n",
       "      <td>Elevé</td>\n",
       "      <td>Matériel</td>\n",
       "    </tr>\n",
       "    <tr>\n",
       "      <th>4</th>\n",
       "      <td>Demande</td>\n",
       "      <td>Ajout d'un nouveau chapitre dans la documentation</td>\n",
       "      <td>Faible</td>\n",
       "      <td>Documentation</td>\n",
       "    </tr>\n",
       "    <tr>\n",
       "      <th>...</th>\n",
       "      <td>...</td>\n",
       "      <td>...</td>\n",
       "      <td>...</td>\n",
       "      <td>...</td>\n",
       "    </tr>\n",
       "    <tr>\n",
       "      <th>547</th>\n",
       "      <td>Demande</td>\n",
       "      <td>Ajouter des ressources pour les étudiants étra...</td>\n",
       "      <td>Moyenne</td>\n",
       "      <td>Documentation</td>\n",
       "    </tr>\n",
       "    <tr>\n",
       "      <th>548</th>\n",
       "      <td>Incident</td>\n",
       "      <td>La documentation de Apache Flink est introuvable</td>\n",
       "      <td>Élevée</td>\n",
       "      <td>Documentation</td>\n",
       "    </tr>\n",
       "    <tr>\n",
       "      <th>549</th>\n",
       "      <td>Demande</td>\n",
       "      <td>Créer un guide de démarrage rapide pour les no...</td>\n",
       "      <td>Basse</td>\n",
       "      <td>Documentation</td>\n",
       "    </tr>\n",
       "    <tr>\n",
       "      <th>550</th>\n",
       "      <td>Incident</td>\n",
       "      <td>La documentation de Apache Spark est erronée</td>\n",
       "      <td>Haute</td>\n",
       "      <td>Documentation</td>\n",
       "    </tr>\n",
       "    <tr>\n",
       "      <th>551</th>\n",
       "      <td>Demande</td>\n",
       "      <td>Ajouter des exercices pratiques pour les étudi...</td>\n",
       "      <td>Moyenne</td>\n",
       "      <td>Documentation</td>\n",
       "    </tr>\n",
       "  </tbody>\n",
       "</table>\n",
       "<p>552 rows × 4 columns</p>\n",
       "</div>"
      ],
      "text/plain": [
       "         type                                        description  priorite  \\\n",
       "0     Demande           Impossible d'ouvrir le projet dans l'IDE     Elevé   \n",
       "1    Incident       Le serveur de développement est inaccessible   Moyenne   \n",
       "2     Demande  Nouvelle fonctionnalité pour le système de ges...    Faible   \n",
       "3    Incident        Le matériel de développement est défectueux     Elevé   \n",
       "4     Demande  Ajout d'un nouveau chapitre dans la documentation    Faible   \n",
       "..        ...                                                ...       ...   \n",
       "547   Demande  Ajouter des ressources pour les étudiants étra...   Moyenne   \n",
       "548  Incident   La documentation de Apache Flink est introuvable    Élevée   \n",
       "549   Demande  Créer un guide de démarrage rapide pour les no...     Basse   \n",
       "550  Incident       La documentation de Apache Spark est erronée     Haute   \n",
       "551   Demande  Ajouter des exercices pratiques pour les étudi...   Moyenne   \n",
       "\n",
       "         categorie  \n",
       "0         Logiciel  \n",
       "1           Réseau  \n",
       "2         Logiciel  \n",
       "3         Matériel  \n",
       "4    Documentation  \n",
       "..             ...  \n",
       "547  Documentation  \n",
       "548  Documentation  \n",
       "549  Documentation  \n",
       "550  Documentation  \n",
       "551  Documentation  \n",
       "\n",
       "[552 rows x 4 columns]"
      ]
     },
     "execution_count": 3,
     "metadata": {},
     "output_type": "execute_result"
    }
   ],
   "source": [
    "df"
   ]
  },
  {
   "cell_type": "code",
   "execution_count": 4,
   "metadata": {},
   "outputs": [
    {
     "data": {
      "text/plain": [
       "categorie\n",
       "Logiciel         138\n",
       "Réseau           138\n",
       "Matériel         138\n",
       "Documentation    138\n",
       "Name: count, dtype: int64"
      ]
     },
     "execution_count": 4,
     "metadata": {},
     "output_type": "execute_result"
    }
   ],
   "source": [
    "df.categorie.value_counts()"
   ]
  },
  {
   "cell_type": "markdown",
   "metadata": {},
   "source": [
    "### Création du pipeline et du GridSearch pour fit les données puis les prédire"
   ]
  },
  {
   "cell_type": "code",
   "execution_count": 5,
   "metadata": {},
   "outputs": [
    {
     "name": "stdout",
     "output_type": "stream",
     "text": [
      "Fitting 5 folds for each of 10 candidates, totalling 50 fits\n"
     ]
    }
   ],
   "source": [
    "pip = Pipeline([\n",
    "    (\"tfidf\", TfidfVectorizer()),\n",
    "    (\"model\", LogisticRegression(class_weight='balanced', max_iter=1000)) # On fait une regression logistique équlibré avec nos données\n",
    "])\n",
    "parameters = {\"tfidf__ngram_range\": [(1, 1), (1, 2)],\n",
    "              \"model__C\": np.logspace(-2, 2, 5)}\n",
    "gs = GridSearchCV(pip, parameters, verbose=1)\n",
    "gs.fit(X_train, y_train) # On fit les données, c'est a dire qu'on creer le modèle pour pouvoir prédire des données\n",
    "y_test_pred = gs.predict(X_test) # On prédit les données de test"
   ]
  },
  {
   "cell_type": "markdown",
   "metadata": {},
   "source": [
    "### Rapport de classification \n",
    "\n",
    "todo"
   ]
  },
  {
   "cell_type": "code",
   "execution_count": 6,
   "metadata": {},
   "outputs": [
    {
     "name": "stdout",
     "output_type": "stream",
     "text": [
      "               precision    recall  f1-score   support\n",
      "\n",
      "Documentation       1.00      1.00      1.00        43\n",
      "     Logiciel       1.00      1.00      1.00        35\n",
      "     Matériel       0.96      1.00      0.98        26\n",
      "       Réseau       1.00      0.97      0.99        34\n",
      "\n",
      "     accuracy                           0.99       138\n",
      "    macro avg       0.99      0.99      0.99       138\n",
      " weighted avg       0.99      0.99      0.99       138\n",
      "\n"
     ]
    }
   ],
   "source": [
    "print(classification_report(y_test, y_test_pred))"
   ]
  },
  {
   "cell_type": "code",
   "execution_count": null,
   "metadata": {},
   "outputs": [],
   "source": []
  }
 ],
 "metadata": {
  "kernelspec": {
   "display_name": "Python 3",
   "language": "python",
   "name": "python3"
  },
  "language_info": {
   "codemirror_mode": {
    "name": "ipython",
    "version": 3
   },
   "file_extension": ".py",
   "mimetype": "text/x-python",
   "name": "python",
   "nbconvert_exporter": "python",
   "pygments_lexer": "ipython3",
   "version": "3.12.4"
  }
 },
 "nbformat": 4,
 "nbformat_minor": 2
}
